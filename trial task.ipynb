{
  "nbformat": 4,
  "nbformat_minor": 0,
  "metadata": {
    "colab": {
      "provenance": [],
      "authorship_tag": "ABX9TyOJb2MQtzCTAQVAbk4LvSnD",
      "include_colab_link": true
    },
    "kernelspec": {
      "name": "python3",
      "display_name": "Python 3"
    },
    "language_info": {
      "name": "python"
    }
  },
  "cells": [
    {
      "cell_type": "markdown",
      "metadata": {
        "id": "view-in-github",
        "colab_type": "text"
      },
      "source": [
        "<a href=\"https://colab.research.google.com/github/Sam7Sammy/CIFAR/blob/main/trial%20task.ipynb\" target=\"_parent\"><img src=\"https://colab.research.google.com/assets/colab-badge.svg\" alt=\"Open In Colab\"/></a>"
      ]
    },
    {
      "cell_type": "code",
      "execution_count": null,
      "metadata": {
        "id": "K4W4yDXCTRjG"
      },
      "outputs": [],
      "source": [
        "import numpy as np\n",
        "import tensorflow as tf\n",
        "import matplotlib.pyplot as plt\n",
        "from sklearn.linear_model import LogisticRegression\n",
        "from sklearn.metrics import accuracy_score\n",
        "from sklearn.preprocessing import StandardScaler"
      ]
    },
    {
      "cell_type": "code",
      "source": [
        "# Load the CIFAR-10 dataset\n",
        "(X_train, y_train), (X_test, y_test) = tf.keras.datasets.cifar10.load_data()\n",
        "\n",
        "# Define the labels for \"airplane\" and \"bird\"\n",
        "airplane_image = 0\n",
        "bird_image = 2\n"
      ],
      "metadata": {
        "id": "GAZrVJLETay7"
      },
      "execution_count": null,
      "outputs": []
    },
    {
      "cell_type": "code",
      "source": [
        "# Filter the dataset to only include \"airplane\" and \"bird\" images\n",
        "train_G = np.isin(y_train, [airplane_image, bird_image])\n",
        "test_G = np.isin(y_test, [airplane_image, bird_image])\n",
        "\n",
        "X_train_new = X_train[train_G[:, 0]]\n",
        "y_train_new = y_train[train_G[:, 0]]\n",
        "\n",
        "X_test_new = X_test[test_G[:, 0]]\n",
        "y_test_new = y_test[test_G[:, 0]]"
      ],
      "metadata": {
        "id": "2KeerDsQUEIY"
      },
      "execution_count": null,
      "outputs": []
    },
    {
      "cell_type": "code",
      "source": [
        "# Reshape the input data to (num_samples, num_features)\n",
        "X_train_R = X_train_new.reshape(X_train_new.shape[0], -1)\n",
        "X_test_R = X_test_new.reshape(X_test_new.shape[0], -1)\n",
        "\n",
        "# Normalize pixel values to the range [0, 1]\n",
        "X_train_pixel = X_train_pixel.astype('float32') / 255.0\n",
        "X_test_pixel = X_test_pixel.astype('float32') / 255.0"
      ],
      "metadata": {
        "id": "EvMAMZUcUIMM"
      },
      "execution_count": null,
      "outputs": []
    },
    {
      "cell_type": "code",
      "source": [
        "\n",
        "# Create a Logistic Regression model\n",
        "model = LogisticRegression( max_iter=10000,  random_state=42)"
      ],
      "metadata": {
        "id": "MW56tt4BUODv"
      },
      "execution_count": null,
      "outputs": []
    },
    {
      "cell_type": "code",
      "source": [
        "# Standardize features (optional but often recommended)\n",
        "scaler = StandardScaler()\n",
        "X_train_S = scaler.fit_transform(X_train_flat)\n",
        "X_test_S = scaler.transform(X_test_flat)"
      ],
      "metadata": {
        "id": "Mjz6Z4Y7UR1t"
      },
      "execution_count": null,
      "outputs": []
    },
    {
      "cell_type": "code",
      "source": [
        "# Train the model\n",
        "model.fit(X_train_S, y_train_new.ravel())\n",
        "\n",
        "# Make predictions on the test set\n",
        "y_pred = model.predict(X_test_S)\n",
        "\n",
        "# Calculate accuracy\n",
        "accuracy = accuracy_score(y_test_new, y_pred)\n",
        "\n",
        "print('Test accuracy:', accuracy)"
      ],
      "metadata": {
        "id": "ASH6njxMUWMw"
      },
      "execution_count": null,
      "outputs": []
    },
    {
      "cell_type": "markdown",
      "source": [
        "Logistic Regression is used, and this model generates a accuracy of 76%. Inorder to achieve better accuracy CNN can be implemented, which falls under Deep Learning. This can be achieved my Machine Learning experts within the given time slot.\n",
        "\n",
        "\n"
      ],
      "metadata": {
        "id": "qDl0AZ5kXAAs"
      }
    },
    {
      "cell_type": "code",
      "source": [
        "# Initialize a list to store accuracy values\n",
        "tp = []\n",
        "\n",
        "# Train the model and track accuracy over iterations\n",
        "for i in range(1, 11):  # Reduced to 10 iterations\n",
        "    model.fit(X_train_S, y_train_filtered.ravel())\n",
        "    y_pred = model.predict(X_test_S)\n",
        "    accuracy = accuracy_score(y_test_new, y_pred)\n",
        "    tp.append(accuracy)\n",
        "\n",
        "# Create a plot of accuracy over iterations\n",
        "plt.plot(range(1, 11),)tp\n",
        "plt.xlabel('Iterations')\n",
        "plt.ylabel('Accuracy')\n",
        "plt.title('Accuracy Over Iterations (10 iterations)')\n",
        "plt.show()\n",
        "\n",
        "# Evaluate the model\n",
        "test_loss, test_accuracy = model.score(X_test_S, y_test_new)\n",
        "print(f'The accuracy: {test_accuracy * 100:.2f}%')"
      ],
      "metadata": {
        "id": "WF8ugXJaVBI1"
      },
      "execution_count": null,
      "outputs": []
    }
  ]
}